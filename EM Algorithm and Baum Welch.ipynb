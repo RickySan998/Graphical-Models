{
 "cells": [
  {
   "cell_type": "code",
   "execution_count": 1,
   "metadata": {},
   "outputs": [],
   "source": [
    "import numpy as np"
   ]
  },
  {
   "cell_type": "markdown",
   "metadata": {},
   "source": [
    "### Q0)"
   ]
  },
  {
   "cell_type": "code",
   "execution_count": 10,
   "metadata": {},
   "outputs": [],
   "source": [
    "# Load data\n",
    "data = np.genfromtxt('meteo0.csv', dtype='int')\n",
    "N, T = data.shape"
   ]
  },
  {
   "cell_type": "code",
   "execution_count": 11,
   "metadata": {},
   "outputs": [
    {
     "name": "stdout",
     "output_type": "stream",
     "text": [
      "pi\n",
      "[0.308 0.512 0.18 ]\n",
      "A\n",
      "[[0.69876424 0.10079219 0.10071453]\n",
      " [0.30123576 0.6995032  0.19870704]\n",
      " [0.         0.19970461 0.70057843]]\n"
     ]
    }
   ],
   "source": [
    "# Compute initial probability\n",
    "_,pi = np.unique(data[:, 0], return_counts = True)\n",
    "pi = pi / np.sum(pi)\n",
    "\n",
    "# Compute transition probability\n",
    "A = np.zeros((3,3))\n",
    "for n in range(N):\n",
    "    seq = data[n, :]\n",
    "    for i in range(A.shape[0]):\n",
    "        for j in range(A.shape[1]):\n",
    "            A[i,j] += np.sum((seq[1:] == i) * (seq[:-1] == j))\n",
    "            \n",
    "A = A / np.sum(A, axis = 0).reshape(1, -1)\n",
    "print(\"pi\")\n",
    "print(pi)\n",
    "print(\"A\")\n",
    "print(A)"
   ]
  },
  {
   "cell_type": "markdown",
   "metadata": {},
   "source": [
    "### Q1)"
   ]
  },
  {
   "cell_type": "code",
   "execution_count": 15,
   "metadata": {},
   "outputs": [],
   "source": [
    "data = np.genfromtxt('meteo1.csv', dtype='int')\n",
    "N,T = data.shape"
   ]
  },
  {
   "cell_type": "code",
   "execution_count": 58,
   "metadata": {},
   "outputs": [],
   "source": [
    "# EM Algo\n",
    "# 1. Initialise the parameters\n",
    "sigma = np.random.uniform(0, 1, size = (3))\n",
    "sigma = sigma / np.sum(sigma)\n",
    "\n",
    "pi = np.random.uniform(0, 1, size = (3,3))\n",
    "pi = pi / np.sum(pi, axis = 0).reshape(1, -1)\n",
    "\n",
    "A = np.random.uniform(0, 1, size = (3,3,3))\n",
    "A = A / np.sum(A, axis = 0).reshape(1, 3, 3)"
   ]
  },
  {
   "cell_type": "code",
   "execution_count": 59,
   "metadata": {},
   "outputs": [
    {
     "name": "stdout",
     "output_type": "stream",
     "text": [
      "Total change  6.076295493077287\n",
      "Total change  1.0874862676264305\n",
      "Total change  0.8192066043340482\n",
      "Total change  0.21320008541369878\n",
      "Total change  0.019746787917213324\n",
      "Total change  0.0019088945272602437\n",
      "Total change  0.00018026749421437907\n",
      "Total change  1.6790627717557655e-05\n",
      "Total change  1.557230424758388e-06\n",
      "Total change  1.4420148928412369e-07\n",
      "Total change  1.3345798001440645e-08\n",
      "Total change  1.2349076483619825e-09\n",
      "Total change  1.1425858176261627e-10\n",
      "Total change  1.05730701971396e-11\n",
      "Finished at iteration 14\n"
     ]
    }
   ],
   "source": [
    "# EM Algo\n",
    "import copy\n",
    "\n",
    "for it in range(30):\n",
    "    # Iterate until limit reached or no change\n",
    "    old_A = copy.deepcopy(A); old_pi = copy.deepcopy(pi); old_sigma = copy.deepcopy(sigma)\n",
    "\n",
    "    # 2. E -step. Computed in terms of log first to prevent overflow\n",
    "    q = np.zeros((N, 3))\n",
    "\n",
    "    for n in range(N):\n",
    "        seq = data[n, :]; v1 = seq[0]\n",
    "        vt = seq[1:]; vt_m1 = seq[:-1]\n",
    "        q[n, :] = np.log(sigma) + np.log(pi[v1, :]) + np.sum(np.log(A[vt, vt_m1, :]), axis = 0)\n",
    "\n",
    "    # Scale before normalize over h\n",
    "    q -= np.max(q, axis = 1).reshape(-1, 1)\n",
    "\n",
    "    # Normalize\n",
    "    q_all = np.exp(q)\n",
    "    q_all = q_all / np.sum(q_all, axis = 1).reshape(-1, 1)\n",
    "\n",
    "    #3. M-step. Compute new parameters\n",
    "\n",
    "    # sigma\n",
    "    sigma = np.sum(q_all, axis = 0) / np.sum(q_all)\n",
    "\n",
    "    # pi\n",
    "    for i in range(pi.shape[0]):\n",
    "        pi[i, :] = np.sum((data[:, 0] == i).reshape(-1, 1) * q_all, axis = 0)\n",
    "\n",
    "    pi = pi / np.sum(pi, axis = 0).reshape(1, -1)\n",
    "\n",
    "    # A\n",
    "    for i in range(A.shape[0]):\n",
    "        for j in range(A.shape[1]):\n",
    "            transitions = (data[:, 1:] == i) * (data[:, :-1] == j)\n",
    "            counts = np.sum(transitions, axis = 1)\n",
    "            A[i,j, :] = np.sum(counts.reshape(-1, 1) * q_all, axis = 0)\n",
    "\n",
    "    A = A / np.sum(A, axis = 0)\n",
    "    \n",
    "    # Total error\n",
    "    change = np.sum(np.abs(A - old_A)) + np.sum(np.abs(pi - old_pi)) + np.sum(np.abs(sigma - old_sigma))\n",
    "    print(\"Total change \", change)\n",
    "    if change < 1e-10:\n",
    "        print(f\"Finished at iteration {it+1}\")\n",
    "        break"
   ]
  },
  {
   "cell_type": "code",
   "execution_count": 60,
   "metadata": {},
   "outputs": [
    {
     "name": "stdout",
     "output_type": "stream",
     "text": [
      "For station 1 \n",
      "\n",
      "sigma =  0.5083010606295831\n",
      "Start prob\n",
      "[0.46117125 0.33120302 0.20762573] \n",
      "\n",
      "Transition Prob\n",
      "[[0.07051106 0.13676591 0.5107758 ]\n",
      " [0.49465443 0.22585642 0.43723563]\n",
      " [0.43483451 0.63737768 0.05198857]] \n",
      "\n",
      "\n",
      "\n",
      "For station 2 \n",
      "\n",
      "sigma =  0.2996989393812316\n",
      "Start prob\n",
      "[0.19214671 0.41925124 0.38860204] \n",
      "\n",
      "Transition Prob\n",
      "[[0.05971003 0.13007012 0.41759899]\n",
      " [0.13950709 0.32378127 0.42784294]\n",
      " [0.80078288 0.54614861 0.15455807]] \n",
      "\n",
      "\n",
      "\n",
      "For station 3 \n",
      "\n",
      "sigma =  0.1919999999891857\n",
      "Start prob\n",
      "[4.27083333e-001 5.72916667e-001 7.60475509e-210] \n",
      "\n",
      "Transition Prob\n",
      "[[0.38869863 0.2405914  0.54531568]\n",
      " [0.14848337 0.51545699 0.01756619]\n",
      " [0.462818   0.24395161 0.43711813]] \n",
      "\n",
      "\n",
      "\n"
     ]
    }
   ],
   "source": [
    "# Print per-station\n",
    "for i in range(3):\n",
    "    print(f\"For station {i+1} \\n\")\n",
    "    print(\"sigma = \", sigma[i])\n",
    "    print(\"Start prob\")\n",
    "    print(pi[:, i], \"\\n\")\n",
    "    print(\"Transition Prob\")\n",
    "    print(A[:, :, i], '\\n')\n",
    "    print(\"\\n\")"
   ]
  },
  {
   "cell_type": "code",
   "execution_count": 61,
   "metadata": {},
   "outputs": [],
   "source": [
    "# If uniform init\n",
    "sigma = np.ones((3))\n",
    "sigma = sigma / np.sum(sigma)\n",
    "\n",
    "pi = np.ones((3,3))\n",
    "pi = pi / np.sum(pi, axis = 0).reshape(1, -1)\n",
    "\n",
    "A = np.ones((3,3,3))\n",
    "A = A / np.sum(A, axis = 0).reshape(1, 3, 3)"
   ]
  },
  {
   "cell_type": "code",
   "execution_count": 62,
   "metadata": {},
   "outputs": [
    {
     "name": "stdout",
     "output_type": "stream",
     "text": [
      "Total change  4.328952008091643\n",
      "Total change  0.0\n",
      "Finished at iteration 2\n"
     ]
    }
   ],
   "source": [
    "# EM Algo\n",
    "import copy\n",
    "\n",
    "for it in range(30):\n",
    "    # Iterate until limit reached or no change\n",
    "    old_A = copy.deepcopy(A); old_pi = copy.deepcopy(pi); old_sigma = copy.deepcopy(sigma)\n",
    "\n",
    "    # 2. E -step. Computed in terms of log first to prevent overflow\n",
    "    q = np.zeros((N, 3))\n",
    "\n",
    "    for n in range(N):\n",
    "        seq = data[n, :]; v1 = seq[0]\n",
    "        vt = seq[1:]; vt_m1 = seq[:-1]\n",
    "        q[n, :] = np.log(sigma) + np.log(pi[v1, :]) + np.sum(np.log(A[vt, vt_m1, :]), axis = 0)\n",
    "\n",
    "    # Scale before normalize over h\n",
    "    q -= np.max(q, axis = 1).reshape(-1, 1)\n",
    "\n",
    "    # Normalize\n",
    "    q_all = np.exp(q)\n",
    "    q_all = q_all / np.sum(q_all, axis = 1).reshape(-1, 1)\n",
    "\n",
    "    #3. M-step. Compute new parameters\n",
    "\n",
    "    # sigma\n",
    "    sigma = np.sum(q_all, axis = 0) / np.sum(q_all)\n",
    "\n",
    "    # pi\n",
    "    for i in range(pi.shape[0]):\n",
    "        pi[i, :] = np.sum((data[:, 0] == i).reshape(-1, 1) * q_all, axis = 0)\n",
    "\n",
    "    pi = pi / np.sum(pi, axis = 0).reshape(1, -1)\n",
    "\n",
    "    # A\n",
    "    for i in range(A.shape[0]):\n",
    "        for j in range(A.shape[1]):\n",
    "            transitions = (data[:, 1:] == i) * (data[:, :-1] == j)\n",
    "            counts = np.sum(transitions, axis = 1)\n",
    "            A[i,j, :] = np.sum(counts.reshape(-1, 1) * q_all, axis = 0)\n",
    "\n",
    "    A = A / np.sum(A, axis = 0)\n",
    "    \n",
    "    # Total error\n",
    "    change = np.sum(np.abs(A - old_A)) + np.sum(np.abs(pi - old_pi)) + np.sum(np.abs(sigma - old_sigma))\n",
    "    print(\"Total change \", change)\n",
    "    if change < 1e-10:\n",
    "        print(f\"Finished at iteration {it+1}\")\n",
    "        break"
   ]
  },
  {
   "cell_type": "code",
   "execution_count": 63,
   "metadata": {},
   "outputs": [
    {
     "name": "stdout",
     "output_type": "stream",
     "text": [
      "For station 1 \n",
      "\n",
      "sigma =  0.33333333333333404\n",
      "Start prob\n",
      "[0.374 0.404 0.222] \n",
      "\n",
      "Transition Prob\n",
      "[[0.15977377 0.14452926 0.48703845]\n",
      " [0.30597384 0.28346056 0.35019099]\n",
      " [0.53425239 0.57201018 0.16277056]] \n",
      "\n",
      "\n",
      "\n",
      "For station 2 \n",
      "\n",
      "sigma =  0.33333333333333404\n",
      "Start prob\n",
      "[0.374 0.404 0.222] \n",
      "\n",
      "Transition Prob\n",
      "[[0.15977377 0.14452926 0.48703845]\n",
      " [0.30597384 0.28346056 0.35019099]\n",
      " [0.53425239 0.57201018 0.16277056]] \n",
      "\n",
      "\n",
      "\n",
      "For station 3 \n",
      "\n",
      "sigma =  0.33333333333333404\n",
      "Start prob\n",
      "[0.374 0.404 0.222] \n",
      "\n",
      "Transition Prob\n",
      "[[0.15977377 0.14452926 0.48703845]\n",
      " [0.30597384 0.28346056 0.35019099]\n",
      " [0.53425239 0.57201018 0.16277056]] \n",
      "\n",
      "\n",
      "\n"
     ]
    }
   ],
   "source": [
    "# Print per-station\n",
    "for i in range(3):\n",
    "    print(f\"For station {i+1} \\n\")\n",
    "    print(\"sigma = \", sigma[i])\n",
    "    print(\"Start prob\")\n",
    "    print(pi[:, i], \"\\n\")\n",
    "    print(\"Transition Prob\")\n",
    "    print(A[:, :, i], '\\n')\n",
    "    print(\"\\n\")"
   ]
  },
  {
   "cell_type": "markdown",
   "metadata": {},
   "source": [
    "### Q2)"
   ]
  },
  {
   "cell_type": "code",
   "execution_count": 75,
   "metadata": {},
   "outputs": [],
   "source": [
    "def compute_alpha_t(trans, em, init_p, data):\n",
    "    N_state = trans.shape[0]; N = data.shape[0]\n",
    "    # computes until data[-1]\n",
    "    alphas = np.zeros((N, N_state))\n",
    "    alphas[0, :] = em[data[0], :] * init_p\n",
    "    alphas[0, :] = alphas[0, :] / np.sum(alphas[0, :])\n",
    "    \n",
    "    for t in range(1, N):\n",
    "        prev_alpha = alphas[t-1, :].reshape(-1, 1)\n",
    "        alphas[t, :] = ((trans @ prev_alpha) * em[data[t], :].reshape(-1, 1)).reshape(-1)\n",
    "        alphas[t, :] /= np.sum(alphas[t, :])\n",
    "        \n",
    "    return alphas\n",
    "\n",
    "def compute_beta_t(trans, em, init_p, data):\n",
    "    N_state = trans.shape[0]; N = data.shape[0]\n",
    "    # computes until data[-1]\n",
    "    betas = np.ones((N, N_state))\n",
    "    \n",
    "    for t in range(N-2, -1, -1):\n",
    "        betas[t, :] = (em[data[t+1], :].reshape(1, -1) @ (betas[t+1, :].reshape(-1, 1) * trans)).reshape(-1)\n",
    "        \n",
    "    return betas\n",
    "\n",
    "def compute_pht_given_v(alphas, betas):\n",
    "    numerator = alphas * betas\n",
    "    result = numerator / np.sum(numerator, axis = 1).reshape(-1, 1)\n",
    "    \n",
    "    return result"
   ]
  },
  {
   "cell_type": "code",
   "execution_count": 90,
   "metadata": {},
   "outputs": [],
   "source": [
    "# Parameters and Data\n",
    "chess_sequence = np.genfromtxt('chess.txt', dtype='int')\n",
    "\n",
    "# 2c)\n",
    "sequence =  np.array([0, 1, 0, 2, 0, 2, 1, 0, 2, 0])\n",
    "initProb = np.array([1, 0])\n",
    "transMat = np.array([[0.5, 0.8], [0.5, 0.2]])\n",
    "emiProb = np.array([[0.3, 0.5], [0.6, 0], [0.1, 0.5]])\n"
   ]
  },
  {
   "cell_type": "code",
   "execution_count": 76,
   "metadata": {},
   "outputs": [
    {
     "name": "stdout",
     "output_type": "stream",
     "text": [
      "[[1.         0.        ]\n",
      " [1.         0.        ]\n",
      " [0.50239234 0.49760766]\n",
      " [0.29824561 0.70175439]\n",
      " [0.73205742 0.26794258]\n",
      " [0.17065391 0.82934609]\n",
      " [1.         0.        ]\n",
      " [0.48837209 0.51162791]\n",
      " [0.34108527 0.65891473]\n",
      " [0.59302326 0.40697674]]\n"
     ]
    }
   ],
   "source": [
    "alphas = compute_alpha_t(transMat, emiProb, initProb, sequence)\n",
    "betas = compute_beta_t(transMat, emiProb, initProb, sequence)\n",
    "result = compute_pht_given_v(alphas, betas)\n",
    "print(result)"
   ]
  },
  {
   "cell_type": "code",
   "execution_count": 84,
   "metadata": {},
   "outputs": [],
   "source": [
    "# 2d)\n",
    "def compute_phtt1_given_v(alphas, betas, trans, em, data):\n",
    "    # Will only have T-1 rows, instead of T, because its t and t+1\n",
    "    numerator = []\n",
    "    for t in range(alphas.shape[0] - 1):\n",
    "        alpha = alphas[t, :]; beta = betas[t+1, :]\n",
    "        num_term = (beta.reshape(-1, 1) @ alpha.reshape(1, -1) ) * em[data[t+1], :].reshape(-1, 1) * trans\n",
    "        num_term /= np.sum(num_term)\n",
    "        numerator.append(num_term)\n",
    "        \n",
    "    return np.array(numerator)"
   ]
  },
  {
   "cell_type": "code",
   "execution_count": 87,
   "metadata": {},
   "outputs": [
    {
     "name": "stdout",
     "output_type": "stream",
     "text": [
      "[[[1.         0.        ]\n",
      "  [0.         0.        ]]\n",
      "\n",
      " [[0.50239234 0.        ]\n",
      "  [0.49760766 0.        ]]\n",
      "\n",
      " [[0.08133971 0.2169059 ]\n",
      "  [0.42105263 0.28070175]]\n",
      "\n",
      " [[0.15789474 0.57416268]\n",
      "  [0.14035088 0.12759171]]\n",
      "\n",
      " [[0.08133971 0.08931419]\n",
      "  [0.6507177  0.17862839]]\n",
      "\n",
      " [[0.17065391 0.82934609]\n",
      "  [0.         0.        ]]\n",
      "\n",
      " [[0.48837209 0.        ]\n",
      "  [0.51162791 0.        ]]\n",
      "\n",
      " [[0.09302326 0.24806202]\n",
      "  [0.39534884 0.26356589]]\n",
      "\n",
      " [[0.12790698 0.46511628]\n",
      "  [0.21317829 0.19379845]]]\n"
     ]
    }
   ],
   "source": [
    "result = compute_phtt1_given_v(alphas, betas, transMat, emiProb, sequence)\n",
    "print(result)"
   ]
  },
  {
   "cell_type": "code",
   "execution_count": 88,
   "metadata": {},
   "outputs": [],
   "source": [
    "def compute_sc_beta_t(trans, em, init_p, data):\n",
    "    N_state = trans.shape[0]; N = data.shape[0]\n",
    "    # computes until data[-1]\n",
    "    betas = np.ones((N, N_state))\n",
    "    \n",
    "    for t in range(N-2, -1, -1):\n",
    "        betas[t, :] = (em[data[t+1], :].reshape(1, -1) @ (betas[t+1, :].reshape(-1, 1) * trans)).reshape(-1)\n",
    "        \n",
    "        # Scale to avoid underflow\n",
    "        betas[t, :] /= np.max(betas[t, :])\n",
    "        \n",
    "    return betas"
   ]
  },
  {
   "cell_type": "code",
   "execution_count": 100,
   "metadata": {},
   "outputs": [],
   "source": [
    "# 2e) EM Algo\n",
    "\n",
    "# 1. Load data and init\n",
    "chess_sequence = np.genfromtxt('chess.txt', dtype='int')\n",
    "\n",
    "# Starting transition matrix\n",
    "transMat = np.array([[0.5, 0.8], [0.5, 0.2]])\n",
    "\n",
    "# Emission Matrix and initial hidden state (NOT updated)\n",
    "initProb = np.array([1, 0])\n",
    "emiProb = np.array([[0.3, 0.5], [0.6, 0], [0.1, 0.5]])"
   ]
  },
  {
   "cell_type": "code",
   "execution_count": 101,
   "metadata": {},
   "outputs": [
    {
     "name": "stdout",
     "output_type": "stream",
     "text": [
      "Change  0.32691831310241476\n",
      "Change  0.311196708310305\n",
      "Change  0.2634981693776444\n",
      "Change  0.25767264389948663\n",
      "Change  0.2567090938432675\n",
      "Change  0.24764146820528943\n",
      "Change  0.23106177018355237\n",
      "Change  0.19974883918246306\n",
      "Change  0.15565703337051393\n",
      "Change  0.10906970785190481\n",
      "Change  0.06965619001819816\n",
      "Change  0.041510176296049486\n",
      "Change  0.02365113427621296\n",
      "Change  0.013123002050230537\n",
      "Change  0.007173724453556546\n",
      "Change  0.003889619186935714\n",
      "Change  0.0020996348722072677\n",
      "Change  0.0011306832911071457\n",
      "Change  0.0006081048342492512\n",
      "Change  0.0003268247527058732\n",
      "Change  0.0001755859117601316\n",
      "Change  9.431428816905618e-05\n",
      "Change  5.0654570586283754e-05\n",
      "Change  2.7204122105509154e-05\n",
      "Change  1.4609566496570636e-05\n",
      "Change  7.845718343515995e-06\n",
      "Change  4.213317760251578e-06\n",
      "Change  2.262630461338788e-06\n",
      "Change  1.2150717545456047e-06\n",
      "Change  6.525136783397389e-07\n",
      "Change  3.504104036100575e-07\n",
      "Change  1.8817598131104507e-07\n",
      "Change  1.0105348478839371e-07\n",
      "Change  5.4267316848544134e-08\n",
      "Change  2.914240417040137e-08\n",
      "Change  1.5649929838157384e-08\n",
      "Change  8.404258414196342e-09\n",
      "Stopped at iteration 37\n"
     ]
    }
   ],
   "source": [
    "# 2. E-step\n",
    "for it in range(50):\n",
    "    # compute joint q's. Data is one long chain, 1 datapoint, of length 1000 steps. Unlike q1), now we have many hidden variables\n",
    "    alphas = compute_alpha_t(transMat, emiProb, initProb, chess_sequence)\n",
    "    betas = compute_sc_beta_t(transMat, emiProb, initProb, chess_sequence)\n",
    "    q_joint = compute_phtt1_given_v(alphas, betas, transMat, emiProb, chess_sequence)\n",
    "\n",
    "    # 3. M-step\n",
    "    old_transMat = copy.deepcopy(transMat)\n",
    "\n",
    "    for i in range(transMat.shape[0]):\n",
    "        for j in range(transMat.shape[1]):\n",
    "            transMat[i,j] = np.sum(q_joint[:, i, j])\n",
    "\n",
    "    # Normalise\n",
    "    transMat = transMat / np.sum(transMat, axis = 0)\n",
    "\n",
    "    change = np.sum(np.abs(transMat - old_transMat))\n",
    "    print(\"Change \", change)\n",
    "    if change < 1e-8:\n",
    "        print(f\"Stopped at iteration {it+1}\")\n",
    "        break"
   ]
  },
  {
   "cell_type": "code",
   "execution_count": 102,
   "metadata": {},
   "outputs": [
    {
     "name": "stdout",
     "output_type": "stream",
     "text": [
      "Learned transition matrix \n",
      " [[0.83258179 0.0723181 ]\n",
      " [0.16741821 0.9276819 ]]\n"
     ]
    }
   ],
   "source": [
    "print(f\"Learned transition matrix \\n {transMat}\")"
   ]
  },
  {
   "cell_type": "code",
   "execution_count": 103,
   "metadata": {},
   "outputs": [
    {
     "name": "stdout",
     "output_type": "stream",
     "text": [
      "[0.47736557 0.0679033  0.45473113]\n"
     ]
    }
   ],
   "source": [
    "# 2f) \n",
    "results = []; alphas = compute_alpha_t(transMat, emiProb, initProb, chess_sequence) \n",
    "for i in range(emiProb.shape[0]):\n",
    "    results.append(np.sum(emiProb[i, :].reshape(-1, 1) * transMat * alphas[-1, :]))\n",
    "    \n",
    "results = np.array(results)\n",
    "print(results)"
   ]
  }
 ],
 "metadata": {
  "kernelspec": {
   "display_name": "Python 3",
   "language": "python",
   "name": "python3"
  },
  "language_info": {
   "codemirror_mode": {
    "name": "ipython",
    "version": 3
   },
   "file_extension": ".py",
   "mimetype": "text/x-python",
   "name": "python",
   "nbconvert_exporter": "python",
   "pygments_lexer": "ipython3",
   "version": "3.7.6"
  }
 },
 "nbformat": 4,
 "nbformat_minor": 4
}
