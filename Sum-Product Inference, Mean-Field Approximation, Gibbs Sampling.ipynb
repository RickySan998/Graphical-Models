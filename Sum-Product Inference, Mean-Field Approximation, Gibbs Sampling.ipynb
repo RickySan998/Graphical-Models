{
 "cells": [
  {
   "cell_type": "code",
   "execution_count": 2,
   "metadata": {},
   "outputs": [],
   "source": [
    "import numpy as np\n",
    "import itertools"
   ]
  },
  {
   "cell_type": "markdown",
   "metadata": {},
   "source": [
    "### 1) Exact Inference"
   ]
  },
  {
   "cell_type": "code",
   "execution_count": 24,
   "metadata": {},
   "outputs": [],
   "source": [
    "def compute_g(config, beta):\n",
    "    x_t = config[:-1]; x_t1 = config[1:]\n",
    "    power = beta * np.sum(x_t == x_t1)\n",
    "    return power\n",
    "\n",
    "def compute_f(config_t, config_t1, beta):\n",
    "    power = beta * np.sum(config_t == config_t1)\n",
    "    return power\n",
    "\n",
    "def compute_muft(muft1, fs, gs):\n",
    "    powers = (muft1 + gs).reshape(1, -1) + fs\n",
    "    scale = np.max(powers, axis = 1).reshape(-1, 1)\n",
    "    powers -= scale\n",
    "    \n",
    "    # Marginalise\n",
    "    marg = np.sum(np.exp(powers), axis = 1).reshape(-1,1)\n",
    "    marg_powers = np.log(marg) + scale\n",
    "    \n",
    "    return marg_powers.reshape(-1)"
   ]
  },
  {
   "cell_type": "code",
   "execution_count": 48,
   "metadata": {},
   "outputs": [],
   "source": [
    "# 1. Beta = 0.01\n",
    "beta = 0.01\n",
    "fs = []; gs = []; combinations = []\n",
    "for combi in itertools.product([0,1], repeat = 10):\n",
    "    combinations.append(combi)\n",
    "    row = []\n",
    "    gs.append(compute_g(np.array(combi), beta))\n",
    "    for combi2 in itertools.product([0,1], repeat = 10):\n",
    "        row.append(compute_f(np.array(combi), np.array(combi2), beta))\n",
    "    fs.append(row)\n",
    "\n",
    "fs = np.array(fs); gs = np.array(gs); combinations = np.array(combinations)"
   ]
  },
  {
   "cell_type": "code",
   "execution_count": 49,
   "metadata": {},
   "outputs": [
    {
     "name": "stdout",
     "output_type": "stream",
     "text": [
      "[[0.25 0.25]\n",
      " [0.25 0.25]]\n"
     ]
    }
   ],
   "source": [
    "muft = np.zeros(2**10)\n",
    "for i in range(9):\n",
    "    muft = compute_muft(muft, fs, gs)\n",
    "    \n",
    "marg_end = muft + gs\n",
    "\n",
    "scale = np.max(marg_end, axis = 0)\n",
    "marg_end -= scale\n",
    "marg_prob = np.exp(marg_end) / np.sum(np.exp(marg_end))\n",
    "\n",
    "results = np.zeros((2,2))\n",
    "for i in range(results.shape[0]):\n",
    "    for j in range(results.shape[1]):\n",
    "        indexes = np.where((combinations[:, 0] == i) * (combinations[:, 9] == j))[0]\n",
    "        results[i,j] = np.sum(marg_prob[indexes])\n",
    "        \n",
    "print(results)"
   ]
  },
  {
   "cell_type": "code",
   "execution_count": 50,
   "metadata": {},
   "outputs": [],
   "source": [
    "# 2. Beta = 1\n",
    "beta = 1\n",
    "fs = []; gs = []; combinations = []\n",
    "for combi in itertools.product([0,1], repeat = 10):\n",
    "    combinations.append(combi)\n",
    "    row = []\n",
    "    gs.append(compute_g(np.array(combi), beta))\n",
    "    for combi2 in itertools.product([0,1], repeat = 10):\n",
    "        row.append(compute_f(np.array(combi), np.array(combi2), beta))\n",
    "    fs.append(row)\n",
    "\n",
    "fs = np.array(fs); gs = np.array(gs); combinations = np.array(combinations)"
   ]
  },
  {
   "cell_type": "code",
   "execution_count": 51,
   "metadata": {},
   "outputs": [
    {
     "name": "stdout",
     "output_type": "stream",
     "text": [
      "[[0.28044728 0.21955272]\n",
      " [0.21955272 0.28044728]]\n"
     ]
    }
   ],
   "source": [
    "muft = np.zeros(2**10)\n",
    "for i in range(9):\n",
    "    muft = compute_muft(muft, fs, gs)\n",
    "\n",
    "marg_end = muft + gs\n",
    "\n",
    "scale = np.max(marg_end, axis = 0)\n",
    "marg_end -= scale\n",
    "marg_prob = np.exp(marg_end) / np.sum(np.exp(marg_end))\n",
    "\n",
    "results = np.zeros((2,2))\n",
    "for i in range(results.shape[0]):\n",
    "    for j in range(results.shape[1]):\n",
    "        indexes = np.where((combinations[:, 0] == i) * (combinations[:, 9] == j))[0]\n",
    "        results[i,j] = np.sum(marg_prob[indexes])\n",
    "        \n",
    "print(results)"
   ]
  },
  {
   "cell_type": "code",
   "execution_count": 52,
   "metadata": {},
   "outputs": [],
   "source": [
    "# 3. Beta = 4\n",
    "beta = 4\n",
    "fs = []; gs = []; combinations = []\n",
    "for combi in itertools.product([0,1], repeat = 10):\n",
    "    combinations.append(combi)\n",
    "    row = []\n",
    "    gs.append(compute_g(np.array(combi), beta))\n",
    "    for combi2 in itertools.product([0,1], repeat = 10):\n",
    "        row.append(compute_f(np.array(combi), np.array(combi2), beta))\n",
    "    fs.append(row)\n",
    "\n",
    "fs = np.array(fs); gs = np.array(gs); combinations = np.array(combinations)"
   ]
  },
  {
   "cell_type": "code",
   "execution_count": 53,
   "metadata": {},
   "outputs": [
    {
     "name": "stdout",
     "output_type": "stream",
     "text": [
      "[[4.99652024e-01 3.47975924e-04]\n",
      " [3.47975924e-04 4.99652024e-01]]\n"
     ]
    }
   ],
   "source": [
    "muft = np.zeros(2**10)\n",
    "for i in range(9):\n",
    "    muft = compute_muft(muft, fs, gs)\n",
    "    \n",
    "marg_end = muft + gs\n",
    "\n",
    "# Marginalise more stably\n",
    "scale = np.max(marg_end, axis = 0)\n",
    "marg_end -= scale\n",
    "marg_prob = np.exp(marg_end) / np.sum(np.exp(marg_end))\n",
    "\n",
    "results = np.zeros((2,2))\n",
    "for i in range(results.shape[0]):\n",
    "    for j in range(results.shape[1]):\n",
    "        indexes = np.where((combinations[:, 0] == i) * (combinations[:, 9] == j))[0]\n",
    "        results[i,j] = np.sum(marg_prob[indexes])\n",
    "        \n",
    "print(results)"
   ]
  },
  {
   "cell_type": "markdown",
   "metadata": {},
   "source": [
    "### 3) Gibbs Sampling"
   ]
  },
  {
   "cell_type": "code",
   "execution_count": 68,
   "metadata": {},
   "outputs": [],
   "source": [
    "import random"
   ]
  },
  {
   "cell_type": "code",
   "execution_count": 54,
   "metadata": {},
   "outputs": [],
   "source": [
    "def get_neighbors(grid_size, i_loc, j_loc):\n",
    "    indexes = []\n",
    "    if i_loc - 1 >= 0:\n",
    "        indexes.append((i_loc - 1, j_loc))\n",
    "    if i_loc + 1 < grid_size:\n",
    "        indexes.append((i_loc + 1, j_loc))\n",
    "    if j_loc - 1 >= 0:\n",
    "        indexes.append((i_loc, j_loc - 1))\n",
    "    if j_loc + 1 < grid_size:\n",
    "        indexes.append((i_loc, j_loc + 1))\n",
    "    return indexes"
   ]
  },
  {
   "cell_type": "code",
   "execution_count": 76,
   "metadata": {},
   "outputs": [
    {
     "name": "stdout",
     "output_type": "stream",
     "text": [
      "[[0.244533 0.256924]\n",
      " [0.243636 0.254907]]\n"
     ]
    }
   ],
   "source": [
    "# Initialise beta = 0.01\n",
    "lattice = np.random.choice([0,1], size = (10,10))\n",
    "counts = np.zeros((2,2)); beta = 0.01\n",
    "\n",
    "# iterate through the lattice, generate samples\n",
    "node_order = [np.unravel_index(i,(10,10)) for i in range(10 * 10)]\n",
    "for it in range(10000):\n",
    "    random.shuffle(node_order)\n",
    "    for n, (i,j) in enumerate(node_order):\n",
    "        neigh_idxs = get_neighbors(10, i, j); count_same1 = 0; count_same0 = 0\n",
    "        for idx in neigh_idxs:\n",
    "            if lattice[idx] == 1:\n",
    "                count_same1 += 1\n",
    "            else:\n",
    "                count_same0 += 1\n",
    "\n",
    "        px1 = np.exp(beta * count_same1); px0 = np.exp(beta * count_same0)\n",
    "        norm_px1 = px1 / (px1 + px0)\n",
    "        lattice[i,j] = np.random.choice([0,1], p = [1 - norm_px1, norm_px1])\n",
    "\n",
    "        # Add sample to counts\n",
    "        r = lattice[0, 9]; c = lattice[9,9]\n",
    "        counts[r,c] += 1\n",
    "            \n",
    "counts /= np.sum(counts)\n",
    "\n",
    "print(counts)"
   ]
  },
  {
   "cell_type": "code",
   "execution_count": 77,
   "metadata": {},
   "outputs": [
    {
     "name": "stdout",
     "output_type": "stream",
     "text": [
      "[[7.46500e-03 2.37000e-04]\n",
      " [8.19000e-04 9.91479e-01]]\n"
     ]
    }
   ],
   "source": [
    "# Initialise beta = 4\n",
    "lattice = np.random.choice([0,1], size = (10,10))\n",
    "counts = np.zeros((2,2)); beta = 4\n",
    "\n",
    "# iterate through the lattice, generate samples\n",
    "node_order = [np.unravel_index(i,(10,10)) for i in range(10 * 10)]\n",
    "for it in range(10000):\n",
    "    random.shuffle(node_order)\n",
    "    for n, (i,j) in enumerate(node_order):\n",
    "        neigh_idxs = get_neighbors(10, i, j); count_same1 = 0; count_same0 = 0\n",
    "        for idx in neigh_idxs:\n",
    "            if lattice[idx] == 1:\n",
    "                count_same1 += 1\n",
    "            else:\n",
    "                count_same0 += 1\n",
    "\n",
    "        px1 = np.exp(beta * count_same1); px0 = np.exp(beta * count_same0)\n",
    "        norm_px1 = px1 / (px1 + px0)\n",
    "        lattice[i,j] = np.random.choice([0,1], p = [1 - norm_px1, norm_px1])\n",
    "\n",
    "        # Add sample to counts\n",
    "        r = lattice[0, 9]; c = lattice[9,9]\n",
    "        counts[r,c] += 1\n",
    "            \n",
    "counts /= np.sum(counts)\n",
    "\n",
    "print(counts)"
   ]
  },
  {
   "cell_type": "code",
   "execution_count": 78,
   "metadata": {},
   "outputs": [
    {
     "name": "stdout",
     "output_type": "stream",
     "text": [
      "[[0.286407 0.216441]\n",
      " [0.21627  0.280882]]\n"
     ]
    }
   ],
   "source": [
    "# Initialise beta = 1\n",
    "lattice = np.random.choice([0,1], size = (10,10))\n",
    "counts = np.zeros((2,2)); beta = 1\n",
    "\n",
    "# iterate through the lattice, generate samples\n",
    "node_order = [np.unravel_index(i,(10,10)) for i in range(10 * 10)]\n",
    "for it in range(10000):\n",
    "    random.shuffle(node_order)\n",
    "    for n, (i,j) in enumerate(node_order):\n",
    "        neigh_idxs = get_neighbors(10, i, j); count_same1 = 0; count_same0 = 0\n",
    "        for idx in neigh_idxs:\n",
    "            if lattice[idx] == 1:\n",
    "                count_same1 += 1\n",
    "            else:\n",
    "                count_same0 += 1\n",
    "\n",
    "        px1 = np.exp(beta * count_same1); px0 = np.exp(beta * count_same0)\n",
    "        norm_px1 = px1 / (px1 + px0)\n",
    "        lattice[i,j] = np.random.choice([0,1], p = [1 - norm_px1, norm_px1])\n",
    "\n",
    "        # Add sample to counts\n",
    "        r = lattice[0, 9]; c = lattice[9,9]\n",
    "        counts[r,c] += 1\n",
    "            \n",
    "counts /= np.sum(counts)\n",
    "\n",
    "print(counts)"
   ]
  },
  {
   "cell_type": "markdown",
   "metadata": {},
   "source": [
    "### 2) Variational Inference with MFA"
   ]
  },
  {
   "cell_type": "code",
   "execution_count": 89,
   "metadata": {},
   "outputs": [
    {
     "name": "stdout",
     "output_type": "stream",
     "text": [
      "[[0.25 0.25]\n",
      " [0.25 0.25]]\n"
     ]
    }
   ],
   "source": [
    "def sigmoid(x):\n",
    "    return 1 / (1 + np.exp (-x))\n",
    "\n",
    "# init the q's randomly\n",
    "qs = np.random.uniform(0,1, size = (10, 10))\n",
    "beta = 0.01\n",
    "\n",
    "# Iterate coordinate ascent\n",
    "for it in range(10):\n",
    "    for i in range(qs.shape[0]):\n",
    "        for j in range(qs.shape[1]):\n",
    "            neigh_idx = np.array(get_neighbors(10, i, j))\n",
    "            q_neigh = qs[neigh_idx[:,0], neigh_idx[:, 1]]\n",
    "            r = np.sum(2 * q_neigh - 1) * beta\n",
    "            qs[i,j] = sigmoid(r)\n",
    "\n",
    "results = np.zeros((2,2)); q1 = qs[0,9]; q2 = qs[9,9]\n",
    "for i in range(results.shape[0]):\n",
    "    for j in range(results.shape[1]):\n",
    "        qi = q1 if i == 1 else (1 - q1); qj = q2 if j == 1 else (1 - q2)\n",
    "        results[i,j] = qi * qj\n",
    "print(results)"
   ]
  },
  {
   "cell_type": "code",
   "execution_count": 90,
   "metadata": {},
   "outputs": [
    {
     "name": "stdout",
     "output_type": "stream",
     "text": [
      "[[0.02416018 0.13210702]\n",
      " [0.13044795 0.71328485]]\n"
     ]
    }
   ],
   "source": [
    "def sigmoid(x):\n",
    "    return 1 / (1 + np.exp (-x))\n",
    "\n",
    "# init the q's randomly\n",
    "qs = np.random.uniform(0,1, size = (10, 10))\n",
    "beta = 1\n",
    "\n",
    "# Iterate coordinate ascent\n",
    "for it in range(10):\n",
    "    for i in range(qs.shape[0]):\n",
    "        for j in range(qs.shape[1]):\n",
    "            neigh_idx = np.array(get_neighbors(10, i, j))\n",
    "            q_neigh = qs[neigh_idx[:,0], neigh_idx[:, 1]]\n",
    "            r = np.sum(2 * q_neigh - 1) * beta\n",
    "            qs[i,j] = sigmoid(r)\n",
    "\n",
    "results = np.zeros((2,2)); q1 = qs[0,9]; q2 = qs[9,9]\n",
    "for i in range(results.shape[0]):\n",
    "    for j in range(results.shape[1]):\n",
    "        qi = q1 if i == 1 else (1 - q1); qj = q2 if j == 1 else (1 - q2)\n",
    "        results[i,j] = qi * qj\n",
    "print(results)"
   ]
  },
  {
   "cell_type": "code",
   "execution_count": 106,
   "metadata": {},
   "outputs": [
    {
     "name": "stdout",
     "output_type": "stream",
     "text": [
      "[[1.12481876e-07 3.35270697e-04]\n",
      " [3.35270697e-04 9.99329346e-01]]\n"
     ]
    }
   ],
   "source": [
    "def sigmoid(x):\n",
    "    return 1 / (1 + np.exp (-x))\n",
    "\n",
    "# init the q's randomly\n",
    "qs = np.random.uniform(0,1, size = (10, 10))\n",
    "beta = 4\n",
    "\n",
    "# Iterate coordinate ascent\n",
    "for it in range(10):\n",
    "    for i in range(qs.shape[0]):\n",
    "        for j in range(qs.shape[1]):\n",
    "            neigh_idx = np.array(get_neighbors(10, i, j))\n",
    "            q_neigh = qs[neigh_idx[:,0], neigh_idx[:, 1]]\n",
    "            r = np.sum(2 * q_neigh - 1) * beta\n",
    "            qs[i,j] = sigmoid(r)\n",
    "\n",
    "results = np.zeros((2,2)); q1 = qs[0,9]; q2 = qs[9,9]\n",
    "for i in range(results.shape[0]):\n",
    "    for j in range(results.shape[1]):\n",
    "        qi = q1 if i == 1 else (1 - q1); qj = q2 if j == 1 else (1 - q2)\n",
    "        results[i,j] = qi * qj\n",
    "print(results)"
   ]
  }
 ],
 "metadata": {
  "kernelspec": {
   "display_name": "Python 3",
   "language": "python",
   "name": "python3"
  },
  "language_info": {
   "codemirror_mode": {
    "name": "ipython",
    "version": 3
   },
   "file_extension": ".py",
   "mimetype": "text/x-python",
   "name": "python",
   "nbconvert_exporter": "python",
   "pygments_lexer": "ipython3",
   "version": "3.7.6"
  }
 },
 "nbformat": 4,
 "nbformat_minor": 4
}
